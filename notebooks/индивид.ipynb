{
 "cells": [
  {
   "cell_type": "code",
   "execution_count": 2,
   "id": "86301aac-821d-4957-9658-8262b054e3ae",
   "metadata": {},
   "outputs": [
    {
     "name": "stdout",
     "output_type": "stream",
     "text": [
      "Решение с помощью np.linalg.solve: [180. 270. 550.]\n",
      "Решение методом Крамера: (180.00000000000003, 270.00000000000006, 549.9999999999998)\n",
      "Решение матричным методом (обратная матрица): [180. 270. 550.]\n"
     ]
    }
   ],
   "source": [
    "import numpy as np\n",
    "\n",
    "# Матрица коэффициентов\n",
    "A = np.array([[1, -2/3, 0],\n",
    "              [-1, -1, 1],\n",
    "              [1, 1, 1]])\n",
    "\n",
    "# Вектор констант\n",
    "B = np.array([0, 100, 1000])\n",
    "\n",
    "# Метод Крамера\n",
    "def cramer(A, B):\n",
    "  det_A = np.linalg.det(A)\n",
    "  if det_A == 0:\n",
    "    return \"Система не имеет решений или имеет бесконечно много решений\"\n",
    "\n",
    "  A1 = A.copy()\n",
    "  A1[:, 0] = B\n",
    "  det_A1 = np.linalg.det(A1)\n",
    "  x = det_A1 / det_A\n",
    "\n",
    "  A2 = A.copy()\n",
    "  A2[:, 1] = B\n",
    "  det_A2 = np.linalg.det(A2)\n",
    "  y = det_A2 / det_A\n",
    "\n",
    "  A3 = A.copy()\n",
    "  A3[:, 2] = B\n",
    "  det_A3 = np.linalg.det(A3)\n",
    "  z = det_A3 / det_A\n",
    "  return x, y, z\n",
    "\n",
    "\n",
    "# Матричный метод (обратная матрица)\n",
    "def matrix_method(A, B):\n",
    "  try:\n",
    "    A_inv = np.linalg.inv(A)\n",
    "    x = np.dot(A_inv, B)\n",
    "    return x\n",
    "  except np.linalg.LinAlgError:\n",
    "      return \"Система не имеет решений или имеет бесконечно много решений\"\n",
    "\n",
    "\n",
    "# Решение с помощью np.linalg.solve\n",
    "solution_linalg = np.linalg.solve(A, B)\n",
    "\n",
    "# Решение методом Крамера\n",
    "solution_cramer = cramer(A, B)\n",
    "\n",
    "# Решение матричным методом\n",
    "solution_matrix = matrix_method(A, B)\n",
    "\n",
    "\n",
    "print(\"Решение с помощью np.linalg.solve:\", solution_linalg)\n",
    "print(\"Решение методом Крамера:\", solution_cramer)\n",
    "print(\"Решение матричным методом (обратная матрица):\", solution_matrix)\n"
   ]
  },
  {
   "cell_type": "code",
   "execution_count": null,
   "id": "ed90d2e8-3f05-4385-b475-9b01edd5e0f9",
   "metadata": {},
   "outputs": [],
   "source": []
  }
 ],
 "metadata": {
  "kernelspec": {
   "display_name": "Python 3 (ipykernel)",
   "language": "python",
   "name": "python3"
  },
  "language_info": {
   "codemirror_mode": {
    "name": "ipython",
    "version": 3
   },
   "file_extension": ".py",
   "mimetype": "text/x-python",
   "name": "python",
   "nbconvert_exporter": "python",
   "pygments_lexer": "ipython3",
   "version": "3.12.7"
  }
 },
 "nbformat": 4,
 "nbformat_minor": 5
}
